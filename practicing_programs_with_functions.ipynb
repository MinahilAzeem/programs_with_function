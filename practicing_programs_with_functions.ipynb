{
  "nbformat": 4,
  "nbformat_minor": 0,
  "metadata": {
    "colab": {
      "provenance": []
    },
    "kernelspec": {
      "name": "python3",
      "display_name": "Python 3"
    },
    "language_info": {
      "name": "python"
    }
  },
  "cells": [
    {
      "cell_type": "markdown",
      "source": [
        "# **Factorial Calculator:**"
      ],
      "metadata": {
        "id": "AZC4muEgs7n9"
      }
    },
    {
      "cell_type": "code",
      "source": [
        "#Create a Python program that calculates the factorial of a given number using a function.\n",
        "def factorial(n):\n",
        "  if n==1 or n==0:\n",
        "    return 1\n",
        "  else:\n",
        "    return n*factorial(n-1)"
      ],
      "metadata": {
        "id": "0Gc1cRYIs9aV"
      },
      "execution_count": 8,
      "outputs": []
    },
    {
      "cell_type": "code",
      "source": [
        "factorial(3)"
      ],
      "metadata": {
        "colab": {
          "base_uri": "https://localhost:8080/"
        },
        "id": "_6XOiBtFtP74",
        "outputId": "00c6f934-ddd0-4ea2-b0e0-eff9d7da804f"
      },
      "execution_count": 9,
      "outputs": [
        {
          "output_type": "execute_result",
          "data": {
            "text/plain": [
              "6"
            ]
          },
          "metadata": {},
          "execution_count": 9
        }
      ]
    },
    {
      "cell_type": "code",
      "source": [
        "\n",
        "def fac(n):\n",
        "  result=1\n",
        "  for i in range(1,n+1):\n",
        "     result*=i\n",
        "  return result"
      ],
      "metadata": {
        "id": "c3uHpeD3u07x"
      },
      "execution_count": 14,
      "outputs": []
    },
    {
      "cell_type": "code",
      "source": [
        "fac(3)"
      ],
      "metadata": {
        "colab": {
          "base_uri": "https://localhost:8080/"
        },
        "id": "cbRrwaOUvHG6",
        "outputId": "62c2738f-98b4-4670-cb8d-8cd50ca31fa3"
      },
      "execution_count": 15,
      "outputs": [
        {
          "output_type": "execute_result",
          "data": {
            "text/plain": [
              "6"
            ]
          },
          "metadata": {},
          "execution_count": 15
        }
      ]
    },
    {
      "cell_type": "markdown",
      "source": [
        "# **Prime Number Checker:**"
      ],
      "metadata": {
        "id": "Nr2xleTkveAF"
      }
    },
    {
      "cell_type": "code",
      "source": [
        "#Write a Python function that checks if a given number is prime or not.\n",
        "def is_prime(n):\n",
        "  for j in range(2,n):\n",
        "    if n%j == 0:\n",
        "      print(n,\" is not prime number \")\n",
        "      break;\n",
        "  else:\n",
        "    print(n,\" is prime number\")"
      ],
      "metadata": {
        "id": "-UH2Yuc6vh7F"
      },
      "execution_count": 20,
      "outputs": []
    },
    {
      "cell_type": "code",
      "source": [
        "is_prime(12)"
      ],
      "metadata": {
        "colab": {
          "base_uri": "https://localhost:8080/"
        },
        "id": "Pa3hRpWewI1Z",
        "outputId": "cf600779-e223-453d-9c13-cc33a7a787e6"
      },
      "execution_count": 23,
      "outputs": [
        {
          "output_type": "stream",
          "name": "stdout",
          "text": [
            "12  is not prime number \n"
          ]
        }
      ]
    },
    {
      "cell_type": "markdown",
      "source": [
        "# **Temperature Converter:**"
      ],
      "metadata": {
        "id": "1duaN8E4wfL9"
      }
    },
    {
      "cell_type": "code",
      "source": [
        "#Create a program that converts temperatures between Celsius and Fahrenheit based on user input.\n",
        "temp=float(input('Enter a temperature in fahrenheit to convert: '))\n",
        "cel=(temp-32)*5/9\n",
        "print(temp,\"F temperature in celcius is \",cel)"
      ],
      "metadata": {
        "colab": {
          "base_uri": "https://localhost:8080/"
        },
        "id": "AxQGW5ajwmu8",
        "outputId": "ded3bbc6-0c5e-4e30-a745-821972b9410e"
      },
      "execution_count": 24,
      "outputs": [
        {
          "output_type": "stream",
          "name": "stdout",
          "text": [
            "Enter a temperature in fahrenheit to convert: 23\n",
            "23.0 F temperature in celcius is  -5.0\n"
          ]
        }
      ]
    },
    {
      "cell_type": "code",
      "source": [
        "temp_c=float(input('Enter a temperature in celcius to convert: '))\n",
        "feh=(temp_c*9/5)+32\n",
        "print(temp_c,\"C temperature in fahrenheit is \",feh)\n"
      ],
      "metadata": {
        "colab": {
          "base_uri": "https://localhost:8080/"
        },
        "id": "kaIxbkO5xmdj",
        "outputId": "b354caef-692d-4762-8ed8-5cba74b3a228"
      },
      "execution_count": 25,
      "outputs": [
        {
          "output_type": "stream",
          "name": "stdout",
          "text": [
            "Enter a temperature in celcius to convert: -5\n",
            "-5.0 C temperature in fahrenheit is  23.0\n"
          ]
        }
      ]
    },
    {
      "cell_type": "code",
      "source": [
        "def celsius_to_fahrenheit(celsius):\n",
        "    fahrenheit = (celsius * 9/5) + 32\n",
        "    return fahrenheit\n",
        "\n",
        "def fahrenheit_to_celsius(fahrenheit):\n",
        "    celsius = (fahrenheit - 32) * 5/9\n",
        "    return celsius\n",
        "\n",
        "while True:\n",
        "    print(\"Options:\")\n",
        "    print(\"Enter '1' to convert Celsius to Fahrenheit\")\n",
        "    print(\"Enter '2' to convert Fahrenheit to Celsius\")\n",
        "    print(\"Enter '3' to quit the program\")\n",
        "\n",
        "    choice = input(\"Enter your choice: \")\n",
        "\n",
        "    if choice == '3':\n",
        "        break\n",
        "\n",
        "    if choice in ('1', '2'):\n",
        "        temperature = float(input(\"Enter the temperature: \"))\n",
        "\n",
        "        if choice == '1':\n",
        "            converted_temperature = celsius_to_fahrenheit(temperature)\n",
        "            print(f\"{temperature}°C is equal to {converted_temperature}°F\")\n",
        "        else:\n",
        "            converted_temperature = fahrenheit_to_celsius(temperature)\n",
        "            print(f\"{temperature}°F is equal to {converted_temperature}°C\")\n",
        "    else:\n",
        "        print(\"Invalid input. Please enter '1', '2', or '3'.\")\n"
      ],
      "metadata": {
        "colab": {
          "base_uri": "https://localhost:8080/"
        },
        "id": "qldpkvycN7cp",
        "outputId": "f2245199-1fc3-4556-f5da-01749c235ce0"
      },
      "execution_count": 90,
      "outputs": [
        {
          "name": "stdout",
          "output_type": "stream",
          "text": [
            "Options:\n",
            "Enter '1' to convert Celsius to Fahrenheit\n",
            "Enter '2' to convert Fahrenheit to Celsius\n",
            "Enter '3' to quit the program\n",
            "Enter your choice: 1\n",
            "Enter the temperature: 23\n",
            "23.0°C is equal to 73.4°F\n",
            "Options:\n",
            "Enter '1' to convert Celsius to Fahrenheit\n",
            "Enter '2' to convert Fahrenheit to Celsius\n",
            "Enter '3' to quit the program\n",
            "Enter your choice: 2\n",
            "Enter the temperature: 23\n",
            "23.0°F is equal to -5.0°C\n",
            "Options:\n",
            "Enter '1' to convert Celsius to Fahrenheit\n",
            "Enter '2' to convert Fahrenheit to Celsius\n",
            "Enter '3' to quit the program\n",
            "Enter your choice: 3\n"
          ]
        }
      ]
    },
    {
      "cell_type": "markdown",
      "source": [
        "# **Count Vowels and Consonants:**"
      ],
      "metadata": {
        "id": "9qoJOH_ay5rR"
      }
    },
    {
      "cell_type": "code",
      "source": [
        "def count_cons_vow(string):\n",
        "  vowels=\"AEIOUaeiou\"\n",
        "  vowels_count=0\n",
        "  consonant_count=0\n",
        "  for i in string:\n",
        "    if i in vowels:\n",
        "      vowels_count+=1\n",
        "    elif i.isalpha():\n",
        "      consonant_count+=1\n",
        "  return print(\"vowels:\",vowels_count,\"    consonant:\",consonant_count)\n",
        "\n",
        "\n"
      ],
      "metadata": {
        "id": "KK-YYs2c-kYl"
      },
      "execution_count": 58,
      "outputs": []
    },
    {
      "cell_type": "code",
      "source": [
        "count_cons_vow(\"Aeouoi\")"
      ],
      "metadata": {
        "colab": {
          "base_uri": "https://localhost:8080/"
        },
        "id": "9QkXBQTr_jt5",
        "outputId": "3e0eb50f-f9d5-4121-f25b-b874eee1092a"
      },
      "execution_count": 60,
      "outputs": [
        {
          "output_type": "stream",
          "name": "stdout",
          "text": [
            "vowels: 6    consonant: 0\n"
          ]
        }
      ]
    },
    {
      "cell_type": "markdown",
      "source": [
        "# **Sum of Digits:**"
      ],
      "metadata": {
        "id": "Ddw1nv1_AJy_"
      }
    },
    {
      "cell_type": "code",
      "source": [
        "#Write a function that calculates the sum of the digits of a given number.\n",
        "def sum_of_digits(number):\n",
        "  number=str(number)\n",
        "  count=0\n",
        "  for i in number:\n",
        "    count+=int(i)\n",
        "  return count"
      ],
      "metadata": {
        "id": "oo-_JJySB5cq"
      },
      "execution_count": 83,
      "outputs": []
    },
    {
      "cell_type": "code",
      "source": [
        "sum_of_digits(1234)"
      ],
      "metadata": {
        "colab": {
          "base_uri": "https://localhost:8080/"
        },
        "id": "tTp0X8ss-vzj",
        "outputId": "f1585fae-61fd-4b8a-8e05-e96a9c4c23f0"
      },
      "execution_count": 84,
      "outputs": [
        {
          "output_type": "execute_result",
          "data": {
            "text/plain": [
              "10"
            ]
          },
          "metadata": {},
          "execution_count": 84
        }
      ]
    },
    {
      "cell_type": "code",
      "source": [
        "def sum_of_digits(number):\n",
        "    total_sum = 0  # Initialize the total sum to zero\n",
        "\n",
        "    # Convert the number to a string to iterate through its digits\n",
        "    number_str = str(number)\n",
        "\n",
        "    # Iterate through each digit in the string\n",
        "    for digit_str in number_str:\n",
        "        # Convert the digit back to an integer and add it to the total sum\n",
        "        total_sum += int(digit_str)\n",
        "\n",
        "    return total_sum  # Return the sum of digits\n"
      ],
      "metadata": {
        "id": "WII_Em6fG2Mh"
      },
      "execution_count": 77,
      "outputs": []
    },
    {
      "cell_type": "code",
      "source": [
        "result = sum_of_digits(12345)\n",
        "print(result)  # Output will be 15 (1 + 2 + 3 + 4 + 5 = 15)\n"
      ],
      "metadata": {
        "colab": {
          "base_uri": "https://localhost:8080/"
        },
        "id": "VHvGtKbrG5bX",
        "outputId": "522f392e-15cb-41d6-cc38-30811370c9a8"
      },
      "execution_count": 78,
      "outputs": [
        {
          "output_type": "stream",
          "name": "stdout",
          "text": [
            "15\n"
          ]
        }
      ]
    },
    {
      "cell_type": "markdown",
      "source": [
        "# **Calculator with Functions:**"
      ],
      "metadata": {
        "id": "0U8gw5X5KvIJ"
      }
    },
    {
      "cell_type": "code",
      "source": [
        "#Build a calculator program with functions for basic arithmetic operations (addition, subtraction, multiplication, division).\n",
        "def calculator(a,b):\n",
        "  sum=a+b\n",
        "  sub=a-b\n",
        "  div=a/b\n",
        "  mul=a*b\n",
        "  return print(\"sum:\",sum,\" sub:\",sub, \" div:\",div, \" mul:\",mul)"
      ],
      "metadata": {
        "id": "6cnH6DBmL20t"
      },
      "execution_count": 86,
      "outputs": []
    },
    {
      "cell_type": "code",
      "source": [
        "calculator(2,3)"
      ],
      "metadata": {
        "colab": {
          "base_uri": "https://localhost:8080/"
        },
        "id": "ejQ35fYZMcXq",
        "outputId": "4b95a04b-1804-4674-e3da-0c2549902801"
      },
      "execution_count": 87,
      "outputs": [
        {
          "output_type": "stream",
          "name": "stdout",
          "text": [
            "sum: 5  sub: -1  div: 0.6666666666666666  mul: 6\n"
          ]
        }
      ]
    },
    {
      "cell_type": "code",
      "source": [
        "# Function to add two numbers\n",
        "def add(x, y):\n",
        "    return x + y\n",
        "\n",
        "# Function to subtract two numbers\n",
        "def subtract(x, y):\n",
        "    return x - y\n",
        "\n",
        "# Function to multiply two numbers\n",
        "def multiply(x, y):\n",
        "    return x * y\n",
        "\n",
        "# Function to divide two numbers\n",
        "def divide(x, y):\n",
        "    if y == 0:\n",
        "        return \"Cannot divide by zero\"\n",
        "    return x / y\n",
        "\n",
        "# Main program loop\n",
        "while True:\n",
        "    # Display menu options to the user\n",
        "    print(\"Options:\")\n",
        "    print(\"Enter 'add' for addition\")\n",
        "    print(\"Enter 'subtract' for subtraction\")\n",
        "    print(\"Enter 'multiply' for multiplication\")\n",
        "    print(\"Enter 'divide' for division\")\n",
        "    print(\"Enter 'quit' to end the program\")\n",
        "\n",
        "    # Get user input for the operation choice\n",
        "    user_input = input(\": \")\n",
        "\n",
        "    # Check if the user wants to quit the program\n",
        "    if user_input == \"quit\":\n",
        "        break\n",
        "\n",
        "    # Check for valid operation choices and get user input for numbers\n",
        "    if user_input in (\"add\", \"subtract\", \"multiply\", \"divide\"):\n",
        "        num1 = float(input(\"Enter first number: \"))\n",
        "        num2 = float(input(\"Enter second number: \"))\n",
        "\n",
        "        if user_input == \"add\":\n",
        "            print(\"Result:\", add(num1, num2))\n",
        "        elif user_input == \"subtract\":\n",
        "            print(\"Result:\", subtract(num1, num2))\n",
        "        elif user_input == \"multiply\":\n",
        "            print(\"Result:\", multiply(num1, num2))\n",
        "        elif user_input == \"divide\":\n",
        "            result = divide(num1, num2)\n",
        "            if result == \"Cannot divide by zero\":\n",
        "                print(result)\n",
        "            else:\n",
        "                print(\"Result:\", result)\n",
        "        else:\n",
        "            print(\"Invalid input\")\n",
        "    else:\n",
        "        print(\"Invalid input\")\n"
      ],
      "metadata": {
        "colab": {
          "base_uri": "https://localhost:8080/"
        },
        "id": "-uaPhiB-MBTz",
        "outputId": "0510cccd-85e5-4659-975a-74867357ea0e"
      },
      "execution_count": 88,
      "outputs": [
        {
          "name": "stdout",
          "output_type": "stream",
          "text": [
            "Options:\n",
            "Enter 'add' for addition\n",
            "Enter 'subtract' for subtraction\n",
            "Enter 'multiply' for multiplication\n",
            "Enter 'divide' for division\n",
            "Enter 'quit' to end the program\n",
            ": add\n",
            "Enter first number: 2\n",
            "Enter second number: 3\n",
            "Result: 5.0\n",
            "Options:\n",
            "Enter 'add' for addition\n",
            "Enter 'subtract' for subtraction\n",
            "Enter 'multiply' for multiplication\n",
            "Enter 'divide' for division\n",
            "Enter 'quit' to end the program\n",
            ": sub\n",
            "Invalid input\n",
            "Options:\n",
            "Enter 'add' for addition\n",
            "Enter 'subtract' for subtraction\n",
            "Enter 'multiply' for multiplication\n",
            "Enter 'divide' for division\n",
            "Enter 'quit' to end the program\n",
            ": subtract\n",
            "Enter first number: 4\n",
            "Enter second number: 2\n",
            "Result: 2.0\n",
            "Options:\n",
            "Enter 'add' for addition\n",
            "Enter 'subtract' for subtraction\n",
            "Enter 'multiply' for multiplication\n",
            "Enter 'divide' for division\n",
            "Enter 'quit' to end the program\n",
            ": quit\n"
          ]
        }
      ]
    },
    {
      "cell_type": "markdown",
      "source": [
        "# **List Manipulation:**"
      ],
      "metadata": {
        "id": "BcRXS_8bNeMS"
      }
    },
    {
      "cell_type": "code",
      "source": [
        "#List Manipulation:\n",
        "#Write a program that performs various operations on a list, such as adding elements, removing duplicates, and finding the maximum or minimum value.\n",
        "# Initialize an empty list\n",
        "my_list = []\n",
        "\n",
        "while True:\n",
        "    # Display menu options to the user\n",
        "    print(\"Options:\")\n",
        "    print(\"Enter 'add' to add an element to the list\")\n",
        "    print(\"Enter 'remove' to remove an element from the list\")\n",
        "    print(\"Enter 'display' to display the current list\")\n",
        "    print(\"Enter 'remove_duplicates' to remove duplicates\")\n",
        "    print(\"Enter 'max' to find the maximum value\")\n",
        "    print(\"Enter 'min' to find the minimum value\")\n",
        "    print(\"Enter 'quit' to end the program\")\n",
        "\n",
        "    # Get user input for the operation choice\n",
        "    user_input = input(\": \")\n",
        "\n",
        "    # Check if the user wants to quit the program\n",
        "    if user_input == \"quit\":\n",
        "        break\n",
        "\n",
        "    # Check for valid operation choices and perform the corresponding action\n",
        "    if user_input == \"add\":\n",
        "        element = input(\"Enter the element to add: \")\n",
        "        my_list.append(element)\n",
        "        print(\"Element added:\", element)\n",
        "    elif user_input == \"remove\":\n",
        "        element = input(\"Enter the element to remove: \")\n",
        "        if element in my_list:\n",
        "            my_list.remove(element)\n",
        "            print(\"Element removed:\", element)\n",
        "        else:\n",
        "            print(\"Element not found in the list.\")\n",
        "    elif user_input == \"display\":\n",
        "        print(\"Current list:\", my_list)\n",
        "    elif user_input == \"remove_duplicates\":\n",
        "        my_list = list(set(my_list))\n",
        "        print(\"Duplicates removed.\")\n",
        "    elif user_input == \"max\":\n",
        "        if len(my_list) > 0:\n",
        "            max_value = max(my_list)\n",
        "            print(\"Maximum value:\", max_value)\n",
        "        else:\n",
        "            print(\"List is empty.\")\n",
        "    elif user_input == \"min\":\n",
        "        if len(my_list) > 0:\n",
        "            min_value = min(my_list)\n",
        "            print(\"Minimum value:\", min_value)\n",
        "        else:\n",
        "            print(\"List is empty.\")\n",
        "    else:\n",
        "        print(\"Invalid input\")\n",
        "\n",
        "# End of the program\n",
        "\n"
      ],
      "metadata": {
        "colab": {
          "base_uri": "https://localhost:8080/"
        },
        "id": "NQTUOncTNe98",
        "outputId": "478e2921-9fb3-408d-c634-231752c159e4"
      },
      "execution_count": 89,
      "outputs": [
        {
          "name": "stdout",
          "output_type": "stream",
          "text": [
            "Options:\n",
            "Enter 'add' to add an element to the list\n",
            "Enter 'remove' to remove an element from the list\n",
            "Enter 'display' to display the current list\n",
            "Enter 'remove_duplicates' to remove duplicates\n",
            "Enter 'max' to find the maximum value\n",
            "Enter 'min' to find the minimum value\n",
            "Enter 'quit' to end the program\n",
            ": add\n",
            "Enter the element to add: 3\n",
            "Element added: 3\n",
            "Options:\n",
            "Enter 'add' to add an element to the list\n",
            "Enter 'remove' to remove an element from the list\n",
            "Enter 'display' to display the current list\n",
            "Enter 'remove_duplicates' to remove duplicates\n",
            "Enter 'max' to find the maximum value\n",
            "Enter 'min' to find the minimum value\n",
            "Enter 'quit' to end the program\n",
            ": display\n",
            "Current list: ['3']\n",
            "Options:\n",
            "Enter 'add' to add an element to the list\n",
            "Enter 'remove' to remove an element from the list\n",
            "Enter 'display' to display the current list\n",
            "Enter 'remove_duplicates' to remove duplicates\n",
            "Enter 'max' to find the maximum value\n",
            "Enter 'min' to find the minimum value\n",
            "Enter 'quit' to end the program\n",
            ": quit\n"
          ]
        }
      ]
    },
    {
      "cell_type": "markdown",
      "source": [
        "# **Simple To-Do List:**"
      ],
      "metadata": {
        "id": "lWhPRu5ZNxMj"
      }
    },
    {
      "cell_type": "code",
      "source": [
        "#Simple To-Do List:\n",
        "#Create a program that allows the user to add, remove, and list tasks in a to-do list.\n",
        "# Initialize an empty to-do list\n",
        "todo_list = []\n",
        "\n",
        "# Function to add a task to the to-do list\n",
        "def add_task(task):\n",
        "    todo_list.append(task)\n",
        "    print(f\"Task '{task}' added to the to-do list.\")\n",
        "\n",
        "# Function to remove a task from the to-do list\n",
        "def remove_task(task):\n",
        "    if task in todo_list:\n",
        "        todo_list.remove(task)\n",
        "        print(f\"Task '{task}' removed from the to-do list.\")\n",
        "    else:\n",
        "        print(f\"Task '{task}' not found in the to-do list.\")\n",
        "\n",
        "# Function to list all tasks in the to-do list\n",
        "def list_tasks():\n",
        "    if len(todo_list) == 0:\n",
        "        print(\"The to-do list is empty.\")\n",
        "    else:\n",
        "        print(\"To-Do List:\")\n",
        "        for index, task in enumerate(todo_list, start=1):\n",
        "            print(f\"{index}. {task}\")\n",
        "\n",
        "while True:\n",
        "    print(\"Options:\")\n",
        "    print(\"Enter 'add' to add a task\")\n",
        "    print(\"Enter 'remove' to remove a task\")\n",
        "    print(\"Enter 'list' to list all tasks\")\n",
        "    print(\"Enter 'quit' to quit the program\")\n",
        "\n",
        "    user_input = input(\"Enter your choice: \")\n",
        "\n",
        "    if user_input == 'quit':\n",
        "        break\n",
        "\n",
        "    if user_input == 'add':\n",
        "        task = input(\"Enter the task: \")\n",
        "        add_task(task)\n",
        "    elif user_input == 'remove':\n",
        "        task = input(\"Enter the task to remove: \")\n",
        "        remove_task(task)\n",
        "    elif user_input == 'list':\n",
        "        list_tasks()\n",
        "    else:\n",
        "        print(\"Invalid input. Please enter 'add', 'remove', 'list', or 'quit'.\")\n",
        "\n"
      ],
      "metadata": {
        "colab": {
          "base_uri": "https://localhost:8080/"
        },
        "id": "r00-A_sLOIRL",
        "outputId": "bdac76b0-f7c5-461d-b04f-33180b12f14d"
      },
      "execution_count": 93,
      "outputs": [
        {
          "name": "stdout",
          "output_type": "stream",
          "text": [
            "Options:\n",
            "Enter 'add' to add a task\n",
            "Enter 'remove' to remove a task\n",
            "Enter 'list' to list all tasks\n",
            "Enter 'quit' to quit the program\n",
            "Enter your choice: add\n",
            "Enter the task: python\n",
            "Task 'python' added to the to-do list.\n",
            "Options:\n",
            "Enter 'add' to add a task\n",
            "Enter 'remove' to remove a task\n",
            "Enter 'list' to list all tasks\n",
            "Enter 'quit' to quit the program\n",
            "Enter your choice: add\n",
            "Enter the task: machine learning\n",
            "Task 'machine learning' added to the to-do list.\n",
            "Options:\n",
            "Enter 'add' to add a task\n",
            "Enter 'remove' to remove a task\n",
            "Enter 'list' to list all tasks\n",
            "Enter 'quit' to quit the program\n",
            "Enter your choice: add\n",
            "Enter the task: deep learning\n",
            "Task 'deep learning' added to the to-do list.\n",
            "Options:\n",
            "Enter 'add' to add a task\n",
            "Enter 'remove' to remove a task\n",
            "Enter 'list' to list all tasks\n",
            "Enter 'quit' to quit the program\n",
            "Enter your choice: add\n",
            "Enter the task: computer vision \n",
            "Task 'computer vision ' added to the to-do list.\n",
            "Options:\n",
            "Enter 'add' to add a task\n",
            "Enter 'remove' to remove a task\n",
            "Enter 'list' to list all tasks\n",
            "Enter 'quit' to quit the program\n",
            "Enter your choice: add\n",
            "Enter the task: face recognition\n",
            "Task 'face recognition' added to the to-do list.\n",
            "Options:\n",
            "Enter 'add' to add a task\n",
            "Enter 'remove' to remove a task\n",
            "Enter 'list' to list all tasks\n",
            "Enter 'quit' to quit the program\n",
            "Enter your choice: list\n",
            "To-Do List:\n",
            "1. python\n",
            "2. machine learning\n",
            "3. deep learning\n",
            "4. computer vision \n",
            "5. face recognition\n",
            "Options:\n",
            "Enter 'add' to add a task\n",
            "Enter 'remove' to remove a task\n",
            "Enter 'list' to list all tasks\n",
            "Enter 'quit' to quit the program\n",
            "Enter your choice: quit\n"
          ]
        }
      ]
    },
    {
      "cell_type": "markdown",
      "source": [
        "# **List Comprehensions:**"
      ],
      "metadata": {
        "id": "S9uQHKxlOtUO"
      }
    },
    {
      "cell_type": "code",
      "source": [
        "#List Comprehensions:\n",
        "#Practice list comprehensions by solving problems like generating a list of even or odd numbers, or finding squares/cubes of numbers.\n",
        "\n",
        "even_numbers = [x for x in range(11) if x % 2 == 0]\n",
        "print(even_numbers)  # Output: [0, 2, 4, 6, 8, 10]\n"
      ],
      "metadata": {
        "colab": {
          "base_uri": "https://localhost:8080/"
        },
        "id": "YO7zC-oROv_N",
        "outputId": "9210a640-159c-494d-db67-630e8ce5e915"
      },
      "execution_count": 94,
      "outputs": [
        {
          "output_type": "stream",
          "name": "stdout",
          "text": [
            "[0, 2, 4, 6, 8, 10]\n"
          ]
        }
      ]
    },
    {
      "cell_type": "code",
      "source": [
        "odd_numbers = [x for x in range(11) if x % 2 != 0]\n",
        "print(odd_numbers)  # Output: [1, 3, 5, 7, 9]\n"
      ],
      "metadata": {
        "colab": {
          "base_uri": "https://localhost:8080/"
        },
        "id": "HHPtFCPnPScS",
        "outputId": "cd50d847-46da-4bdc-f1b6-66bc2f376960"
      },
      "execution_count": 97,
      "outputs": [
        {
          "output_type": "stream",
          "name": "stdout",
          "text": [
            "[1, 3, 5, 7, 9]\n"
          ]
        }
      ]
    },
    {
      "cell_type": "code",
      "source": [
        "cubes = [x**3 for x in range(1, 6)]\n",
        "print(cubes)  # Output: [1, 8, 27, 64, 125]\n"
      ],
      "metadata": {
        "colab": {
          "base_uri": "https://localhost:8080/"
        },
        "id": "0b3200IbPaD_",
        "outputId": "71d66c50-9363-4ef8-b16e-bed69389a136"
      },
      "execution_count": 98,
      "outputs": [
        {
          "output_type": "stream",
          "name": "stdout",
          "text": [
            "[1, 8, 27, 64, 125]\n"
          ]
        }
      ]
    },
    {
      "cell_type": "code",
      "source": [
        "squares = [x**2 for x in range(1, 6)]\n",
        "print(squares)  # Output: [1, 4, 9, 16, 25]\n"
      ],
      "metadata": {
        "colab": {
          "base_uri": "https://localhost:8080/"
        },
        "id": "yNvPavRCPVYe",
        "outputId": "2ef0c4fb-df33-4769-cdc1-7e2adb26cf86"
      },
      "execution_count": 96,
      "outputs": [
        {
          "output_type": "stream",
          "name": "stdout",
          "text": [
            "[1, 4, 9, 16, 25]\n"
          ]
        }
      ]
    },
    {
      "cell_type": "code",
      "source": [
        "sentence = \"This is a sample sentence for list comprehensions\"\n",
        "word_lengths = [len(word) for word in sentence.split()]\n",
        "print(word_lengths)  # Output: [4, 2, 1, 6, 8, 7, 13]\n"
      ],
      "metadata": {
        "colab": {
          "base_uri": "https://localhost:8080/"
        },
        "id": "Ec_gMm2hPbIR",
        "outputId": "19aed53e-9843-4cb0-d864-0e96fed4ff9f"
      },
      "execution_count": 99,
      "outputs": [
        {
          "output_type": "stream",
          "name": "stdout",
          "text": [
            "[4, 2, 1, 6, 8, 3, 4, 14]\n"
          ]
        }
      ]
    },
    {
      "cell_type": "code",
      "source": [
        "numbers = [1, 2, 3, 4, 5, 6, 7, 8, 9, 10]\n",
        "filtered_and_squared = [x**2 for x in numbers if x % 2 == 0]\n",
        "print(filtered_and_squared)  # Output: [4, 16, 36, 64, 100]\n"
      ],
      "metadata": {
        "colab": {
          "base_uri": "https://localhost:8080/"
        },
        "id": "425fcbEvPdUw",
        "outputId": "a316ed6e-8d0d-4ff6-df91-2941def92bcc"
      },
      "execution_count": 100,
      "outputs": [
        {
          "output_type": "stream",
          "name": "stdout",
          "text": [
            "[4, 16, 36, 64, 100]\n"
          ]
        }
      ]
    }
  ]
}